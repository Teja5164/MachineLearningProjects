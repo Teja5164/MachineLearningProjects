{
  "nbformat": 4,
  "nbformat_minor": 0,
  "metadata": {
    "colab": {
      "provenance": [],
      "authorship_tag": "ABX9TyMveTcB4fymKOd3Bccz+t8B",
      "include_colab_link": true
    },
    "kernelspec": {
      "name": "python3",
      "display_name": "Python 3"
    },
    "language_info": {
      "name": "python"
    }
  },
  "cells": [
    {
      "cell_type": "markdown",
      "metadata": {
        "id": "view-in-github",
        "colab_type": "text"
      },
      "source": [
        "<a href=\"https://colab.research.google.com/github/Teja5164/MachineLearningProjects/blob/main/AdmissionChance.ipynb\" target=\"_parent\"><img src=\"https://colab.research.google.com/assets/colab-badge.svg\" alt=\"Open In Colab\"/></a>"
      ]
    },
    {
      "cell_type": "code",
      "execution_count": null,
      "metadata": {
        "id": "uicQuqRJNqpV"
      },
      "outputs": [],
      "source": [
        "#step1:import library\n",
        "import pandas as pd"
      ]
    },
    {
      "cell_type": "code",
      "source": [
        "#step2:import data\n",
        "admission=pd.read_csv('https://github.com/YBI-Foundation/Dataset/raw/main/Admission%20Chance.csv')"
      ],
      "metadata": {
        "id": "cSwZLzgsN3jP"
      },
      "execution_count": null,
      "outputs": []
    },
    {
      "cell_type": "code",
      "source": [
        "admission.head()"
      ],
      "metadata": {
        "colab": {
          "base_uri": "https://localhost:8080/",
          "height": 206
        },
        "id": "HiTwVpI6OI6d",
        "outputId": "c6fb763c-3432-4b38-ebd4-48dde8cfb96d"
      },
      "execution_count": null,
      "outputs": [
        {
          "output_type": "execute_result",
          "data": {
            "text/plain": [
              "   Serial No  GRE Score  TOEFL Score  University Rating   SOP  LOR   CGPA  \\\n",
              "0          1        337          118                  4   4.5   4.5  9.65   \n",
              "1          2        324          107                  4   4.0   4.5  8.87   \n",
              "2          3        316          104                  3   3.0   3.5  8.00   \n",
              "3          4        322          110                  3   3.5   2.5  8.67   \n",
              "4          5        314          103                  2   2.0   3.0  8.21   \n",
              "\n",
              "   Research  Chance of Admit   \n",
              "0         1              0.92  \n",
              "1         1              0.76  \n",
              "2         1              0.72  \n",
              "3         1              0.80  \n",
              "4         0              0.65  "
            ],
            "text/html": [
              "\n",
              "  <div id=\"df-8b841986-8717-4022-9cdc-02a1d62d50cd\" class=\"colab-df-container\">\n",
              "    <div>\n",
              "<style scoped>\n",
              "    .dataframe tbody tr th:only-of-type {\n",
              "        vertical-align: middle;\n",
              "    }\n",
              "\n",
              "    .dataframe tbody tr th {\n",
              "        vertical-align: top;\n",
              "    }\n",
              "\n",
              "    .dataframe thead th {\n",
              "        text-align: right;\n",
              "    }\n",
              "</style>\n",
              "<table border=\"1\" class=\"dataframe\">\n",
              "  <thead>\n",
              "    <tr style=\"text-align: right;\">\n",
              "      <th></th>\n",
              "      <th>Serial No</th>\n",
              "      <th>GRE Score</th>\n",
              "      <th>TOEFL Score</th>\n",
              "      <th>University Rating</th>\n",
              "      <th>SOP</th>\n",
              "      <th>LOR</th>\n",
              "      <th>CGPA</th>\n",
              "      <th>Research</th>\n",
              "      <th>Chance of Admit</th>\n",
              "    </tr>\n",
              "  </thead>\n",
              "  <tbody>\n",
              "    <tr>\n",
              "      <th>0</th>\n",
              "      <td>1</td>\n",
              "      <td>337</td>\n",
              "      <td>118</td>\n",
              "      <td>4</td>\n",
              "      <td>4.5</td>\n",
              "      <td>4.5</td>\n",
              "      <td>9.65</td>\n",
              "      <td>1</td>\n",
              "      <td>0.92</td>\n",
              "    </tr>\n",
              "    <tr>\n",
              "      <th>1</th>\n",
              "      <td>2</td>\n",
              "      <td>324</td>\n",
              "      <td>107</td>\n",
              "      <td>4</td>\n",
              "      <td>4.0</td>\n",
              "      <td>4.5</td>\n",
              "      <td>8.87</td>\n",
              "      <td>1</td>\n",
              "      <td>0.76</td>\n",
              "    </tr>\n",
              "    <tr>\n",
              "      <th>2</th>\n",
              "      <td>3</td>\n",
              "      <td>316</td>\n",
              "      <td>104</td>\n",
              "      <td>3</td>\n",
              "      <td>3.0</td>\n",
              "      <td>3.5</td>\n",
              "      <td>8.00</td>\n",
              "      <td>1</td>\n",
              "      <td>0.72</td>\n",
              "    </tr>\n",
              "    <tr>\n",
              "      <th>3</th>\n",
              "      <td>4</td>\n",
              "      <td>322</td>\n",
              "      <td>110</td>\n",
              "      <td>3</td>\n",
              "      <td>3.5</td>\n",
              "      <td>2.5</td>\n",
              "      <td>8.67</td>\n",
              "      <td>1</td>\n",
              "      <td>0.80</td>\n",
              "    </tr>\n",
              "    <tr>\n",
              "      <th>4</th>\n",
              "      <td>5</td>\n",
              "      <td>314</td>\n",
              "      <td>103</td>\n",
              "      <td>2</td>\n",
              "      <td>2.0</td>\n",
              "      <td>3.0</td>\n",
              "      <td>8.21</td>\n",
              "      <td>0</td>\n",
              "      <td>0.65</td>\n",
              "    </tr>\n",
              "  </tbody>\n",
              "</table>\n",
              "</div>\n",
              "    <div class=\"colab-df-buttons\">\n",
              "\n",
              "  <div class=\"colab-df-container\">\n",
              "    <button class=\"colab-df-convert\" onclick=\"convertToInteractive('df-8b841986-8717-4022-9cdc-02a1d62d50cd')\"\n",
              "            title=\"Convert this dataframe to an interactive table.\"\n",
              "            style=\"display:none;\">\n",
              "\n",
              "  <svg xmlns=\"http://www.w3.org/2000/svg\" height=\"24px\" viewBox=\"0 -960 960 960\">\n",
              "    <path d=\"M120-120v-720h720v720H120Zm60-500h600v-160H180v160Zm220 220h160v-160H400v160Zm0 220h160v-160H400v160ZM180-400h160v-160H180v160Zm440 0h160v-160H620v160ZM180-180h160v-160H180v160Zm440 0h160v-160H620v160Z\"/>\n",
              "  </svg>\n",
              "    </button>\n",
              "\n",
              "  <style>\n",
              "    .colab-df-container {\n",
              "      display:flex;\n",
              "      gap: 12px;\n",
              "    }\n",
              "\n",
              "    .colab-df-convert {\n",
              "      background-color: #E8F0FE;\n",
              "      border: none;\n",
              "      border-radius: 50%;\n",
              "      cursor: pointer;\n",
              "      display: none;\n",
              "      fill: #1967D2;\n",
              "      height: 32px;\n",
              "      padding: 0 0 0 0;\n",
              "      width: 32px;\n",
              "    }\n",
              "\n",
              "    .colab-df-convert:hover {\n",
              "      background-color: #E2EBFA;\n",
              "      box-shadow: 0px 1px 2px rgba(60, 64, 67, 0.3), 0px 1px 3px 1px rgba(60, 64, 67, 0.15);\n",
              "      fill: #174EA6;\n",
              "    }\n",
              "\n",
              "    .colab-df-buttons div {\n",
              "      margin-bottom: 4px;\n",
              "    }\n",
              "\n",
              "    [theme=dark] .colab-df-convert {\n",
              "      background-color: #3B4455;\n",
              "      fill: #D2E3FC;\n",
              "    }\n",
              "\n",
              "    [theme=dark] .colab-df-convert:hover {\n",
              "      background-color: #434B5C;\n",
              "      box-shadow: 0px 1px 3px 1px rgba(0, 0, 0, 0.15);\n",
              "      filter: drop-shadow(0px 1px 2px rgba(0, 0, 0, 0.3));\n",
              "      fill: #FFFFFF;\n",
              "    }\n",
              "  </style>\n",
              "\n",
              "    <script>\n",
              "      const buttonEl =\n",
              "        document.querySelector('#df-8b841986-8717-4022-9cdc-02a1d62d50cd button.colab-df-convert');\n",
              "      buttonEl.style.display =\n",
              "        google.colab.kernel.accessAllowed ? 'block' : 'none';\n",
              "\n",
              "      async function convertToInteractive(key) {\n",
              "        const element = document.querySelector('#df-8b841986-8717-4022-9cdc-02a1d62d50cd');\n",
              "        const dataTable =\n",
              "          await google.colab.kernel.invokeFunction('convertToInteractive',\n",
              "                                                    [key], {});\n",
              "        if (!dataTable) return;\n",
              "\n",
              "        const docLinkHtml = 'Like what you see? Visit the ' +\n",
              "          '<a target=\"_blank\" href=https://colab.research.google.com/notebooks/data_table.ipynb>data table notebook</a>'\n",
              "          + ' to learn more about interactive tables.';\n",
              "        element.innerHTML = '';\n",
              "        dataTable['output_type'] = 'display_data';\n",
              "        await google.colab.output.renderOutput(dataTable, element);\n",
              "        const docLink = document.createElement('div');\n",
              "        docLink.innerHTML = docLinkHtml;\n",
              "        element.appendChild(docLink);\n",
              "      }\n",
              "    </script>\n",
              "  </div>\n",
              "\n",
              "\n",
              "<div id=\"df-4197edd5-b9aa-4eec-a757-c4ee5983be5c\">\n",
              "  <button class=\"colab-df-quickchart\" onclick=\"quickchart('df-4197edd5-b9aa-4eec-a757-c4ee5983be5c')\"\n",
              "            title=\"Suggest charts\"\n",
              "            style=\"display:none;\">\n",
              "\n",
              "<svg xmlns=\"http://www.w3.org/2000/svg\" height=\"24px\"viewBox=\"0 0 24 24\"\n",
              "     width=\"24px\">\n",
              "    <g>\n",
              "        <path d=\"M19 3H5c-1.1 0-2 .9-2 2v14c0 1.1.9 2 2 2h14c1.1 0 2-.9 2-2V5c0-1.1-.9-2-2-2zM9 17H7v-7h2v7zm4 0h-2V7h2v10zm4 0h-2v-4h2v4z\"/>\n",
              "    </g>\n",
              "</svg>\n",
              "  </button>\n",
              "\n",
              "<style>\n",
              "  .colab-df-quickchart {\n",
              "      --bg-color: #E8F0FE;\n",
              "      --fill-color: #1967D2;\n",
              "      --hover-bg-color: #E2EBFA;\n",
              "      --hover-fill-color: #174EA6;\n",
              "      --disabled-fill-color: #AAA;\n",
              "      --disabled-bg-color: #DDD;\n",
              "  }\n",
              "\n",
              "  [theme=dark] .colab-df-quickchart {\n",
              "      --bg-color: #3B4455;\n",
              "      --fill-color: #D2E3FC;\n",
              "      --hover-bg-color: #434B5C;\n",
              "      --hover-fill-color: #FFFFFF;\n",
              "      --disabled-bg-color: #3B4455;\n",
              "      --disabled-fill-color: #666;\n",
              "  }\n",
              "\n",
              "  .colab-df-quickchart {\n",
              "    background-color: var(--bg-color);\n",
              "    border: none;\n",
              "    border-radius: 50%;\n",
              "    cursor: pointer;\n",
              "    display: none;\n",
              "    fill: var(--fill-color);\n",
              "    height: 32px;\n",
              "    padding: 0;\n",
              "    width: 32px;\n",
              "  }\n",
              "\n",
              "  .colab-df-quickchart:hover {\n",
              "    background-color: var(--hover-bg-color);\n",
              "    box-shadow: 0 1px 2px rgba(60, 64, 67, 0.3), 0 1px 3px 1px rgba(60, 64, 67, 0.15);\n",
              "    fill: var(--button-hover-fill-color);\n",
              "  }\n",
              "\n",
              "  .colab-df-quickchart-complete:disabled,\n",
              "  .colab-df-quickchart-complete:disabled:hover {\n",
              "    background-color: var(--disabled-bg-color);\n",
              "    fill: var(--disabled-fill-color);\n",
              "    box-shadow: none;\n",
              "  }\n",
              "\n",
              "  .colab-df-spinner {\n",
              "    border: 2px solid var(--fill-color);\n",
              "    border-color: transparent;\n",
              "    border-bottom-color: var(--fill-color);\n",
              "    animation:\n",
              "      spin 1s steps(1) infinite;\n",
              "  }\n",
              "\n",
              "  @keyframes spin {\n",
              "    0% {\n",
              "      border-color: transparent;\n",
              "      border-bottom-color: var(--fill-color);\n",
              "      border-left-color: var(--fill-color);\n",
              "    }\n",
              "    20% {\n",
              "      border-color: transparent;\n",
              "      border-left-color: var(--fill-color);\n",
              "      border-top-color: var(--fill-color);\n",
              "    }\n",
              "    30% {\n",
              "      border-color: transparent;\n",
              "      border-left-color: var(--fill-color);\n",
              "      border-top-color: var(--fill-color);\n",
              "      border-right-color: var(--fill-color);\n",
              "    }\n",
              "    40% {\n",
              "      border-color: transparent;\n",
              "      border-right-color: var(--fill-color);\n",
              "      border-top-color: var(--fill-color);\n",
              "    }\n",
              "    60% {\n",
              "      border-color: transparent;\n",
              "      border-right-color: var(--fill-color);\n",
              "    }\n",
              "    80% {\n",
              "      border-color: transparent;\n",
              "      border-right-color: var(--fill-color);\n",
              "      border-bottom-color: var(--fill-color);\n",
              "    }\n",
              "    90% {\n",
              "      border-color: transparent;\n",
              "      border-bottom-color: var(--fill-color);\n",
              "    }\n",
              "  }\n",
              "</style>\n",
              "\n",
              "  <script>\n",
              "    async function quickchart(key) {\n",
              "      const quickchartButtonEl =\n",
              "        document.querySelector('#' + key + ' button');\n",
              "      quickchartButtonEl.disabled = true;  // To prevent multiple clicks.\n",
              "      quickchartButtonEl.classList.add('colab-df-spinner');\n",
              "      try {\n",
              "        const charts = await google.colab.kernel.invokeFunction(\n",
              "            'suggestCharts', [key], {});\n",
              "      } catch (error) {\n",
              "        console.error('Error during call to suggestCharts:', error);\n",
              "      }\n",
              "      quickchartButtonEl.classList.remove('colab-df-spinner');\n",
              "      quickchartButtonEl.classList.add('colab-df-quickchart-complete');\n",
              "    }\n",
              "    (() => {\n",
              "      let quickchartButtonEl =\n",
              "        document.querySelector('#df-4197edd5-b9aa-4eec-a757-c4ee5983be5c button');\n",
              "      quickchartButtonEl.style.display =\n",
              "        google.colab.kernel.accessAllowed ? 'block' : 'none';\n",
              "    })();\n",
              "  </script>\n",
              "</div>\n",
              "\n",
              "    </div>\n",
              "  </div>\n"
            ],
            "application/vnd.google.colaboratory.intrinsic+json": {
              "type": "dataframe",
              "variable_name": "admission",
              "summary": "{\n  \"name\": \"admission\",\n  \"rows\": 400,\n  \"fields\": [\n    {\n      \"column\": \"Serial No\",\n      \"properties\": {\n        \"dtype\": \"number\",\n        \"std\": 115,\n        \"min\": 1,\n        \"max\": 400,\n        \"num_unique_values\": 400,\n        \"samples\": [\n          210,\n          281,\n          34\n        ],\n        \"semantic_type\": \"\",\n        \"description\": \"\"\n      }\n    },\n    {\n      \"column\": \"GRE Score\",\n      \"properties\": {\n        \"dtype\": \"number\",\n        \"std\": 11,\n        \"min\": 290,\n        \"max\": 340,\n        \"num_unique_values\": 49,\n        \"samples\": [\n          307,\n          335,\n          297\n        ],\n        \"semantic_type\": \"\",\n        \"description\": \"\"\n      }\n    },\n    {\n      \"column\": \"TOEFL Score\",\n      \"properties\": {\n        \"dtype\": \"number\",\n        \"std\": 6,\n        \"min\": 92,\n        \"max\": 120,\n        \"num_unique_values\": 29,\n        \"samples\": [\n          94,\n          119,\n          112\n        ],\n        \"semantic_type\": \"\",\n        \"description\": \"\"\n      }\n    },\n    {\n      \"column\": \"University Rating\",\n      \"properties\": {\n        \"dtype\": \"number\",\n        \"std\": 1,\n        \"min\": 1,\n        \"max\": 5,\n        \"num_unique_values\": 5,\n        \"samples\": [\n          3,\n          1,\n          2\n        ],\n        \"semantic_type\": \"\",\n        \"description\": \"\"\n      }\n    },\n    {\n      \"column\": \" SOP\",\n      \"properties\": {\n        \"dtype\": \"number\",\n        \"std\": 1.006868641458697,\n        \"min\": 1.0,\n        \"max\": 5.0,\n        \"num_unique_values\": 9,\n        \"samples\": [\n          1.0,\n          4.0,\n          5.0\n        ],\n        \"semantic_type\": \"\",\n        \"description\": \"\"\n      }\n    },\n    {\n      \"column\": \"LOR \",\n      \"properties\": {\n        \"dtype\": \"number\",\n        \"std\": 0.8984775482792571,\n        \"min\": 1.0,\n        \"max\": 5.0,\n        \"num_unique_values\": 9,\n        \"samples\": [\n          5.0,\n          3.5,\n          1.5\n        ],\n        \"semantic_type\": \"\",\n        \"description\": \"\"\n      }\n    },\n    {\n      \"column\": \"CGPA\",\n      \"properties\": {\n        \"dtype\": \"number\",\n        \"std\": 0.5963170964964318,\n        \"min\": 6.8,\n        \"max\": 9.92,\n        \"num_unique_values\": 168,\n        \"samples\": [\n          8.15,\n          7.4,\n          9.91\n        ],\n        \"semantic_type\": \"\",\n        \"description\": \"\"\n      }\n    },\n    {\n      \"column\": \"Research\",\n      \"properties\": {\n        \"dtype\": \"number\",\n        \"std\": 0,\n        \"min\": 0,\n        \"max\": 1,\n        \"num_unique_values\": 2,\n        \"samples\": [\n          0,\n          1\n        ],\n        \"semantic_type\": \"\",\n        \"description\": \"\"\n      }\n    },\n    {\n      \"column\": \"Chance of Admit \",\n      \"properties\": {\n        \"dtype\": \"number\",\n        \"std\": 0.14260933017384092,\n        \"min\": 0.34,\n        \"max\": 0.97,\n        \"num_unique_values\": 60,\n        \"samples\": [\n          0.92,\n          0.9\n        ],\n        \"semantic_type\": \"\",\n        \"description\": \"\"\n      }\n    }\n  ]\n}"
            }
          },
          "metadata": {},
          "execution_count": 4
        }
      ]
    },
    {
      "cell_type": "code",
      "source": [
        "admission.info"
      ],
      "metadata": {
        "colab": {
          "base_uri": "https://localhost:8080/",
          "height": 203
        },
        "id": "F_yp7qxPOSET",
        "outputId": "17635a7e-a8ae-404c-c27b-a6841e0f1e8f"
      },
      "execution_count": null,
      "outputs": [
        {
          "output_type": "execute_result",
          "data": {
            "text/plain": [
              "<bound method DataFrame.info of      Serial No  GRE Score  TOEFL Score  University Rating   SOP  LOR   CGPA  \\\n",
              "0            1        337          118                  4   4.5   4.5  9.65   \n",
              "1            2        324          107                  4   4.0   4.5  8.87   \n",
              "2            3        316          104                  3   3.0   3.5  8.00   \n",
              "3            4        322          110                  3   3.5   2.5  8.67   \n",
              "4            5        314          103                  2   2.0   3.0  8.21   \n",
              "..         ...        ...          ...                ...   ...   ...   ...   \n",
              "395        396        324          110                  3   3.5   3.5  9.04   \n",
              "396        397        325          107                  3   3.0   3.5  9.11   \n",
              "397        398        330          116                  4   5.0   4.5  9.45   \n",
              "398        399        312          103                  3   3.5   4.0  8.78   \n",
              "399        400        333          117                  4   5.0   4.0  9.66   \n",
              "\n",
              "     Research  Chance of Admit   \n",
              "0           1              0.92  \n",
              "1           1              0.76  \n",
              "2           1              0.72  \n",
              "3           1              0.80  \n",
              "4           0              0.65  \n",
              "..        ...               ...  \n",
              "395         1              0.82  \n",
              "396         1              0.84  \n",
              "397         1              0.91  \n",
              "398         0              0.67  \n",
              "399         1              0.95  \n",
              "\n",
              "[400 rows x 9 columns]>"
            ],
            "text/html": [
              "<div style=\"max-width:800px; border: 1px solid var(--colab-border-color);\"><style>\n",
              "      pre.function-repr-contents {\n",
              "        overflow-x: auto;\n",
              "        padding: 8px 12px;\n",
              "        max-height: 500px;\n",
              "      }\n",
              "\n",
              "      pre.function-repr-contents.function-repr-contents-collapsed {\n",
              "        cursor: pointer;\n",
              "        max-height: 100px;\n",
              "      }\n",
              "    </style>\n",
              "    <pre style=\"white-space: initial; background:\n",
              "         var(--colab-secondary-surface-color); padding: 8px 12px;\n",
              "         border-bottom: 1px solid var(--colab-border-color);\"><b>pandas.core.frame.DataFrame.info</b><br/>def info(verbose: bool | None=None, buf: WriteBuffer[str] | None=None, max_cols: int | None=None, memory_usage: bool | str | None=None, show_counts: bool | None=None) -&gt; None</pre><pre class=\"function-repr-contents function-repr-contents-collapsed\" style=\"\"><a class=\"filepath\" style=\"display:none\" href=\"#\">/usr/local/lib/python3.10/dist-packages/pandas/core/frame.py</a>Print a concise summary of a DataFrame.\n",
              "\n",
              "This method prints information about a DataFrame including\n",
              "the index dtype and columns, non-null values and memory usage.\n",
              "\n",
              "Parameters\n",
              "----------\n",
              "verbose : bool, optional\n",
              "    Whether to print the full summary. By default, the setting in\n",
              "    ``pandas.options.display.max_info_columns`` is followed.\n",
              "buf : writable buffer, defaults to sys.stdout\n",
              "    Where to send the output. By default, the output is printed to\n",
              "    sys.stdout. Pass a writable buffer if you need to further process\n",
              "    the output.\n",
              "max_cols : int, optional\n",
              "    When to switch from the verbose to the truncated output. If the\n",
              "    DataFrame has more than `max_cols` columns, the truncated output\n",
              "    is used. By default, the setting in\n",
              "    ``pandas.options.display.max_info_columns`` is used.\n",
              "memory_usage : bool, str, optional\n",
              "    Specifies whether total memory usage of the DataFrame\n",
              "    elements (including the index) should be displayed. By default,\n",
              "    this follows the ``pandas.options.display.memory_usage`` setting.\n",
              "\n",
              "    True always show memory usage. False never shows memory usage.\n",
              "    A value of &#x27;deep&#x27; is equivalent to &quot;True with deep introspection&quot;.\n",
              "    Memory usage is shown in human-readable units (base-2\n",
              "    representation). Without deep introspection a memory estimation is\n",
              "    made based in column dtype and number of rows assuming values\n",
              "    consume the same memory amount for corresponding dtypes. With deep\n",
              "    memory introspection, a real memory usage calculation is performed\n",
              "    at the cost of computational resources. See the\n",
              "    :ref:`Frequently Asked Questions &lt;df-memory-usage&gt;` for more\n",
              "    details.\n",
              "show_counts : bool, optional\n",
              "    Whether to show the non-null counts. By default, this is shown\n",
              "    only if the DataFrame is smaller than\n",
              "    ``pandas.options.display.max_info_rows`` and\n",
              "    ``pandas.options.display.max_info_columns``. A value of True always\n",
              "    shows the counts, and False never shows the counts.\n",
              "\n",
              "Returns\n",
              "-------\n",
              "None\n",
              "    This method prints a summary of a DataFrame and returns None.\n",
              "\n",
              "See Also\n",
              "--------\n",
              "DataFrame.describe: Generate descriptive statistics of DataFrame\n",
              "    columns.\n",
              "DataFrame.memory_usage: Memory usage of DataFrame columns.\n",
              "\n",
              "Examples\n",
              "--------\n",
              "&gt;&gt;&gt; int_values = [1, 2, 3, 4, 5]\n",
              "&gt;&gt;&gt; text_values = [&#x27;alpha&#x27;, &#x27;beta&#x27;, &#x27;gamma&#x27;, &#x27;delta&#x27;, &#x27;epsilon&#x27;]\n",
              "&gt;&gt;&gt; float_values = [0.0, 0.25, 0.5, 0.75, 1.0]\n",
              "&gt;&gt;&gt; df = pd.DataFrame({&quot;int_col&quot;: int_values, &quot;text_col&quot;: text_values,\n",
              "...                   &quot;float_col&quot;: float_values})\n",
              "&gt;&gt;&gt; df\n",
              "    int_col text_col  float_col\n",
              "0        1    alpha       0.00\n",
              "1        2     beta       0.25\n",
              "2        3    gamma       0.50\n",
              "3        4    delta       0.75\n",
              "4        5  epsilon       1.00\n",
              "\n",
              "Prints information of all columns:\n",
              "\n",
              "&gt;&gt;&gt; df.info(verbose=True)\n",
              "&lt;class &#x27;pandas.core.frame.DataFrame&#x27;&gt;\n",
              "RangeIndex: 5 entries, 0 to 4\n",
              "Data columns (total 3 columns):\n",
              " #   Column     Non-Null Count  Dtype\n",
              "---  ------     --------------  -----\n",
              " 0   int_col    5 non-null      int64\n",
              " 1   text_col   5 non-null      object\n",
              " 2   float_col  5 non-null      float64\n",
              "dtypes: float64(1), int64(1), object(1)\n",
              "memory usage: 248.0+ bytes\n",
              "\n",
              "Prints a summary of columns count and its dtypes but not per column\n",
              "information:\n",
              "\n",
              "&gt;&gt;&gt; df.info(verbose=False)\n",
              "&lt;class &#x27;pandas.core.frame.DataFrame&#x27;&gt;\n",
              "RangeIndex: 5 entries, 0 to 4\n",
              "Columns: 3 entries, int_col to float_col\n",
              "dtypes: float64(1), int64(1), object(1)\n",
              "memory usage: 248.0+ bytes\n",
              "\n",
              "Pipe output of DataFrame.info to buffer instead of sys.stdout, get\n",
              "buffer content and writes to a text file:\n",
              "\n",
              "&gt;&gt;&gt; import io\n",
              "&gt;&gt;&gt; buffer = io.StringIO()\n",
              "&gt;&gt;&gt; df.info(buf=buffer)\n",
              "&gt;&gt;&gt; s = buffer.getvalue()\n",
              "&gt;&gt;&gt; with open(&quot;df_info.txt&quot;, &quot;w&quot;,\n",
              "...           encoding=&quot;utf-8&quot;) as f:  # doctest: +SKIP\n",
              "...     f.write(s)\n",
              "260\n",
              "\n",
              "The `memory_usage` parameter allows deep introspection mode, specially\n",
              "useful for big DataFrames and fine-tune memory optimization:\n",
              "\n",
              "&gt;&gt;&gt; random_strings_array = np.random.choice([&#x27;a&#x27;, &#x27;b&#x27;, &#x27;c&#x27;], 10 ** 6)\n",
              "&gt;&gt;&gt; df = pd.DataFrame({\n",
              "...     &#x27;column_1&#x27;: np.random.choice([&#x27;a&#x27;, &#x27;b&#x27;, &#x27;c&#x27;], 10 ** 6),\n",
              "...     &#x27;column_2&#x27;: np.random.choice([&#x27;a&#x27;, &#x27;b&#x27;, &#x27;c&#x27;], 10 ** 6),\n",
              "...     &#x27;column_3&#x27;: np.random.choice([&#x27;a&#x27;, &#x27;b&#x27;, &#x27;c&#x27;], 10 ** 6)\n",
              "... })\n",
              "&gt;&gt;&gt; df.info()\n",
              "&lt;class &#x27;pandas.core.frame.DataFrame&#x27;&gt;\n",
              "RangeIndex: 1000000 entries, 0 to 999999\n",
              "Data columns (total 3 columns):\n",
              " #   Column    Non-Null Count    Dtype\n",
              "---  ------    --------------    -----\n",
              " 0   column_1  1000000 non-null  object\n",
              " 1   column_2  1000000 non-null  object\n",
              " 2   column_3  1000000 non-null  object\n",
              "dtypes: object(3)\n",
              "memory usage: 22.9+ MB\n",
              "\n",
              "&gt;&gt;&gt; df.info(memory_usage=&#x27;deep&#x27;)\n",
              "&lt;class &#x27;pandas.core.frame.DataFrame&#x27;&gt;\n",
              "RangeIndex: 1000000 entries, 0 to 999999\n",
              "Data columns (total 3 columns):\n",
              " #   Column    Non-Null Count    Dtype\n",
              "---  ------    --------------    -----\n",
              " 0   column_1  1000000 non-null  object\n",
              " 1   column_2  1000000 non-null  object\n",
              " 2   column_3  1000000 non-null  object\n",
              "dtypes: object(3)\n",
              "memory usage: 165.9 MB</pre>\n",
              "      <script>\n",
              "      if (google.colab.kernel.accessAllowed && google.colab.files && google.colab.files.view) {\n",
              "        for (const element of document.querySelectorAll('.filepath')) {\n",
              "          element.style.display = 'block'\n",
              "          element.onclick = (event) => {\n",
              "            event.preventDefault();\n",
              "            event.stopPropagation();\n",
              "            google.colab.files.view(element.textContent, 3345);\n",
              "          };\n",
              "        }\n",
              "      }\n",
              "      for (const element of document.querySelectorAll('.function-repr-contents')) {\n",
              "        element.onclick = (event) => {\n",
              "          event.preventDefault();\n",
              "          event.stopPropagation();\n",
              "          element.classList.toggle('function-repr-contents-collapsed');\n",
              "        };\n",
              "      }\n",
              "      </script>\n",
              "      </div>"
            ]
          },
          "metadata": {},
          "execution_count": 5
        }
      ]
    },
    {
      "cell_type": "code",
      "source": [
        "admission.columns\n"
      ],
      "metadata": {
        "colab": {
          "base_uri": "https://localhost:8080/"
        },
        "id": "M4rp5zUIOXmJ",
        "outputId": "70fee187-5ce9-49c6-ecf6-18c6938d8b1e"
      },
      "execution_count": null,
      "outputs": [
        {
          "output_type": "execute_result",
          "data": {
            "text/plain": [
              "Index(['Serial No', 'GRE Score', 'TOEFL Score', 'University Rating', ' SOP',\n",
              "       'LOR ', 'CGPA', 'Research', 'Chance of Admit '],\n",
              "      dtype='object')"
            ]
          },
          "metadata": {},
          "execution_count": 7
        }
      ]
    },
    {
      "cell_type": "code",
      "source": [
        "#step3:define y and x\n",
        "y=admission['Chance of Admit ']\n",
        "x=admission[['Serial No', 'GRE Score', 'TOEFL Score', 'University Rating', ' SOP',\n",
        "       'LOR ', 'CGPA', 'Research']]"
      ],
      "metadata": {
        "id": "0IMyS7JqOfaJ"
      },
      "execution_count": null,
      "outputs": []
    },
    {
      "cell_type": "code",
      "source": [
        "#step4:train test and split\n",
        "from sklearn.model_selection import train_test_split\n",
        "x_train,x_test,y_train,y_test=train_test_split(x,y,random_state=2529)\n"
      ],
      "metadata": {
        "id": "4xYeoEjOOuM8"
      },
      "execution_count": null,
      "outputs": []
    },
    {
      "cell_type": "code",
      "source": [
        "#step5:select model\n",
        "from sklearn.linear_model import LinearRegression\n",
        "model=LinearRegression()"
      ],
      "metadata": {
        "id": "Xo7SS8pgPV4E"
      },
      "execution_count": null,
      "outputs": []
    },
    {
      "cell_type": "code",
      "source": [
        "model.fit(x_train,y_train)"
      ],
      "metadata": {
        "colab": {
          "base_uri": "https://localhost:8080/",
          "height": 74
        },
        "id": "icCnHn0UPkOo",
        "outputId": "eedd38d8-71a1-4caf-a798-bff639b44da2"
      },
      "execution_count": null,
      "outputs": [
        {
          "output_type": "execute_result",
          "data": {
            "text/plain": [
              "LinearRegression()"
            ],
            "text/html": [
              "<style>#sk-container-id-2 {color: black;background-color: white;}#sk-container-id-2 pre{padding: 0;}#sk-container-id-2 div.sk-toggleable {background-color: white;}#sk-container-id-2 label.sk-toggleable__label {cursor: pointer;display: block;width: 100%;margin-bottom: 0;padding: 0.3em;box-sizing: border-box;text-align: center;}#sk-container-id-2 label.sk-toggleable__label-arrow:before {content: \"▸\";float: left;margin-right: 0.25em;color: #696969;}#sk-container-id-2 label.sk-toggleable__label-arrow:hover:before {color: black;}#sk-container-id-2 div.sk-estimator:hover label.sk-toggleable__label-arrow:before {color: black;}#sk-container-id-2 div.sk-toggleable__content {max-height: 0;max-width: 0;overflow: hidden;text-align: left;background-color: #f0f8ff;}#sk-container-id-2 div.sk-toggleable__content pre {margin: 0.2em;color: black;border-radius: 0.25em;background-color: #f0f8ff;}#sk-container-id-2 input.sk-toggleable__control:checked~div.sk-toggleable__content {max-height: 200px;max-width: 100%;overflow: auto;}#sk-container-id-2 input.sk-toggleable__control:checked~label.sk-toggleable__label-arrow:before {content: \"▾\";}#sk-container-id-2 div.sk-estimator input.sk-toggleable__control:checked~label.sk-toggleable__label {background-color: #d4ebff;}#sk-container-id-2 div.sk-label input.sk-toggleable__control:checked~label.sk-toggleable__label {background-color: #d4ebff;}#sk-container-id-2 input.sk-hidden--visually {border: 0;clip: rect(1px 1px 1px 1px);clip: rect(1px, 1px, 1px, 1px);height: 1px;margin: -1px;overflow: hidden;padding: 0;position: absolute;width: 1px;}#sk-container-id-2 div.sk-estimator {font-family: monospace;background-color: #f0f8ff;border: 1px dotted black;border-radius: 0.25em;box-sizing: border-box;margin-bottom: 0.5em;}#sk-container-id-2 div.sk-estimator:hover {background-color: #d4ebff;}#sk-container-id-2 div.sk-parallel-item::after {content: \"\";width: 100%;border-bottom: 1px solid gray;flex-grow: 1;}#sk-container-id-2 div.sk-label:hover label.sk-toggleable__label {background-color: #d4ebff;}#sk-container-id-2 div.sk-serial::before {content: \"\";position: absolute;border-left: 1px solid gray;box-sizing: border-box;top: 0;bottom: 0;left: 50%;z-index: 0;}#sk-container-id-2 div.sk-serial {display: flex;flex-direction: column;align-items: center;background-color: white;padding-right: 0.2em;padding-left: 0.2em;position: relative;}#sk-container-id-2 div.sk-item {position: relative;z-index: 1;}#sk-container-id-2 div.sk-parallel {display: flex;align-items: stretch;justify-content: center;background-color: white;position: relative;}#sk-container-id-2 div.sk-item::before, #sk-container-id-2 div.sk-parallel-item::before {content: \"\";position: absolute;border-left: 1px solid gray;box-sizing: border-box;top: 0;bottom: 0;left: 50%;z-index: -1;}#sk-container-id-2 div.sk-parallel-item {display: flex;flex-direction: column;z-index: 1;position: relative;background-color: white;}#sk-container-id-2 div.sk-parallel-item:first-child::after {align-self: flex-end;width: 50%;}#sk-container-id-2 div.sk-parallel-item:last-child::after {align-self: flex-start;width: 50%;}#sk-container-id-2 div.sk-parallel-item:only-child::after {width: 0;}#sk-container-id-2 div.sk-dashed-wrapped {border: 1px dashed gray;margin: 0 0.4em 0.5em 0.4em;box-sizing: border-box;padding-bottom: 0.4em;background-color: white;}#sk-container-id-2 div.sk-label label {font-family: monospace;font-weight: bold;display: inline-block;line-height: 1.2em;}#sk-container-id-2 div.sk-label-container {text-align: center;}#sk-container-id-2 div.sk-container {/* jupyter's `normalize.less` sets `[hidden] { display: none; }` but bootstrap.min.css set `[hidden] { display: none !important; }` so we also need the `!important` here to be able to override the default hidden behavior on the sphinx rendered scikit-learn.org. See: https://github.com/scikit-learn/scikit-learn/issues/21755 */display: inline-block !important;position: relative;}#sk-container-id-2 div.sk-text-repr-fallback {display: none;}</style><div id=\"sk-container-id-2\" class=\"sk-top-container\"><div class=\"sk-text-repr-fallback\"><pre>LinearRegression()</pre><b>In a Jupyter environment, please rerun this cell to show the HTML representation or trust the notebook. <br />On GitHub, the HTML representation is unable to render, please try loading this page with nbviewer.org.</b></div><div class=\"sk-container\" hidden><div class=\"sk-item\"><div class=\"sk-estimator sk-toggleable\"><input class=\"sk-toggleable__control sk-hidden--visually\" id=\"sk-estimator-id-2\" type=\"checkbox\" checked><label for=\"sk-estimator-id-2\" class=\"sk-toggleable__label sk-toggleable__label-arrow\">LinearRegression</label><div class=\"sk-toggleable__content\"><pre>LinearRegression()</pre></div></div></div></div></div>"
            ]
          },
          "metadata": {},
          "execution_count": 20
        }
      ]
    },
    {
      "cell_type": "code",
      "source": [
        "model.intercept_"
      ],
      "metadata": {
        "colab": {
          "base_uri": "https://localhost:8080/"
        },
        "id": "cdK31Em-QYSF",
        "outputId": "f68d4d76-3210-480e-c2d8-4d86d4a3842e"
      },
      "execution_count": null,
      "outputs": [
        {
          "output_type": "execute_result",
          "data": {
            "text/plain": [
              "-1.313927676963856"
            ]
          },
          "metadata": {},
          "execution_count": 21
        }
      ]
    },
    {
      "cell_type": "code",
      "source": [
        "model.coef_"
      ],
      "metadata": {
        "colab": {
          "base_uri": "https://localhost:8080/"
        },
        "id": "zHCPNMdPQdVg",
        "outputId": "a016e547-264c-4fec-a602-4db95857b4c5"
      },
      "execution_count": null,
      "outputs": [
        {
          "output_type": "execute_result",
          "data": {
            "text/plain": [
              "array([ 0.00017307,  0.00196337,  0.00422169,  0.00739279, -0.00103725,\n",
              "        0.02017428,  0.09670386,  0.02178675])"
            ]
          },
          "metadata": {},
          "execution_count": 22
        }
      ]
    },
    {
      "cell_type": "code",
      "source": [
        "#step7:predict model\n",
        "y_pred=model.predict(x_test)"
      ],
      "metadata": {
        "id": "toC_1FzwQhMe"
      },
      "execution_count": null,
      "outputs": []
    },
    {
      "cell_type": "code",
      "source": [
        "y_pred"
      ],
      "metadata": {
        "colab": {
          "base_uri": "https://localhost:8080/"
        },
        "id": "GxGX-hnDQsEb",
        "outputId": "d471572f-1107-4f17-c021-1a98bfe16680"
      },
      "execution_count": null,
      "outputs": [
        {
          "output_type": "execute_result",
          "data": {
            "text/plain": [
              "array([0.71736699, 0.75455082, 0.68697663, 0.68271551, 0.57127013,\n",
              "       0.91254171, 0.90443071, 0.72494304, 0.79315949, 0.5974714 ,\n",
              "       0.5970127 , 0.80847851, 0.54489033, 0.77396909, 0.87258665,\n",
              "       0.66842412, 0.62024256, 0.67271868, 0.73502445, 0.84436251,\n",
              "       0.63116625, 0.86042277, 0.82905922, 0.91672707, 0.68666542,\n",
              "       0.63697134, 0.6161006 , 0.57945469, 0.52039044, 0.6156423 ,\n",
              "       0.52665301, 0.76543793, 0.6986032 , 0.75827246, 0.62538368,\n",
              "       0.53110664, 0.40483705, 0.86989056, 0.92349587, 0.7926284 ,\n",
              "       0.71857394, 0.73633381, 0.70282204, 0.90593713, 0.80074302,\n",
              "       0.81534319, 0.91800512, 0.86884325, 0.5884609 , 0.48491871,\n",
              "       0.62601521, 0.62107436, 0.80489091, 0.46652188, 0.7154584 ,\n",
              "       0.7436518 , 0.69426119, 0.63671683, 0.82907817, 0.66864585,\n",
              "       0.64499352, 0.93457743, 0.66587621, 0.65608019, 0.73144018,\n",
              "       0.69953521, 0.59884561, 0.91336371, 0.57755816, 0.90604589,\n",
              "       0.57164735, 0.9269528 , 0.62494238, 0.71688709, 0.52919861,\n",
              "       0.86134812, 0.60880572, 0.72642318, 0.66577872, 0.82272867,\n",
              "       0.7231353 , 0.89814622, 0.67720924, 0.50045899, 0.75888336,\n",
              "       0.64920587, 0.76902891, 0.57829858, 0.78916736, 0.67323219,\n",
              "       0.68532473, 0.68480415, 0.91914928, 0.68225973, 0.65216008,\n",
              "       0.64517797, 0.77500134, 0.6752606 , 0.76523301, 0.61219622])"
            ]
          },
          "metadata": {},
          "execution_count": 24
        }
      ]
    },
    {
      "cell_type": "code",
      "source": [
        "#step8:accuracy\n",
        "from sklearn.metrics import mean_absolute_error,mean_absolute_percentage_error,mean_squared_error"
      ],
      "metadata": {
        "id": "lrScahZ4Q0HN"
      },
      "execution_count": null,
      "outputs": []
    },
    {
      "cell_type": "code",
      "source": [
        "mean_absolute_error(y_test,y_pred)"
      ],
      "metadata": {
        "colab": {
          "base_uri": "https://localhost:8080/"
        },
        "id": "ny-cHUpiRN32",
        "outputId": "85a27c38-ae04-4222-8435-74a03d896517"
      },
      "execution_count": null,
      "outputs": [
        {
          "output_type": "execute_result",
          "data": {
            "text/plain": [
              "0.04504823079497952"
            ]
          },
          "metadata": {},
          "execution_count": 27
        }
      ]
    },
    {
      "cell_type": "code",
      "source": [
        "mean_absolute_percentage_error(y_test,y_pred)"
      ],
      "metadata": {
        "colab": {
          "base_uri": "https://localhost:8080/"
        },
        "id": "PFLskArERi1q",
        "outputId": "7e89ca6d-50c3-48cc-8005-f2f5dda9eb35"
      },
      "execution_count": null,
      "outputs": [
        {
          "output_type": "execute_result",
          "data": {
            "text/plain": [
              "0.0793412291061142"
            ]
          },
          "metadata": {},
          "execution_count": 28
        }
      ]
    },
    {
      "cell_type": "code",
      "source": [
        "mean_squared_error(y_test,y_pred)"
      ],
      "metadata": {
        "colab": {
          "base_uri": "https://localhost:8080/"
        },
        "id": "RQXjVgWDRp2G",
        "outputId": "af1301bb-235e-477b-9a4f-d50098f5dd17"
      },
      "execution_count": null,
      "outputs": [
        {
          "output_type": "execute_result",
          "data": {
            "text/plain": [
              "0.0042806885779369435"
            ]
          },
          "metadata": {},
          "execution_count": 30
        }
      ]
    }
  ]
}